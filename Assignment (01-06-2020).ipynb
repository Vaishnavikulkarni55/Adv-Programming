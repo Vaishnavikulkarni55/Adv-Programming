{
 "cells": [
  {
   "cell_type": "markdown",
   "metadata": {},
   "source": [
    "## CSE-221710305024-Vaishnavi Kulkarni\n"
   ]
  },
  {
   "cell_type": "code",
   "execution_count": 1,
   "metadata": {},
   "outputs": [
    {
     "name": "stdout",
     "output_type": "stream",
     "text": [
      "New password is:\n",
      "distinctTable42)\n",
      "type \"onemore\" for new password\n",
      "\n",
      "enter string:onemore\n",
      "New password is:\n",
      "shinyBottle62(\n",
      "type \"onemore\" for new password\n",
      "\n",
      "enter string:onemore\n",
      "New password is:\n",
      "attractiveBottle37(\n",
      "type \"onemore\" for new password\n",
      "\n",
      "enter string:onemore\n",
      "New password is:\n",
      "attractiveBall42!\n",
      "type \"onemore\" for new password\n",
      "\n",
      "enter string:abcd\n"
     ]
    }
   ],
   "source": [
    "import random\n",
    "\n",
    "while(1):\n",
    "    adjec=['attractive','distinct','rich','shiny','brave']\n",
    "    nou=['Car', 'Hat', 'Bottle', 'Table', 'Chair', 'Ball']\n",
    "    special=[',','.','?','!','(',')']\n",
    "\n",
    "    print(\"New password is:\\n\"+\n",
    "    random.choice(adjec)+random.choice(nou)+\n",
    "    str(random.randint(0,101))+random.choice(special)+\n",
    "    \"\\ntype \\\"onemore\\\" for new password\\n\")\n",
    "\n",
    "    a=input(\"enter string:\")\n",
    "    if(a!='onemore'):\n",
    "        break"
   ]
  },
  {
   "cell_type": "code",
   "execution_count": null,
   "metadata": {},
   "outputs": [],
   "source": []
  },
  {
   "cell_type": "code",
   "execution_count": null,
   "metadata": {},
   "outputs": [],
   "source": []
  },
  {
   "cell_type": "code",
   "execution_count": null,
   "metadata": {},
   "outputs": [],
   "source": []
  }
 ],
 "metadata": {
  "kernelspec": {
   "display_name": "Python 3",
   "language": "python",
   "name": "python3"
  },
  "language_info": {
   "codemirror_mode": {
    "name": "ipython",
    "version": 3
   },
   "file_extension": ".py",
   "mimetype": "text/x-python",
   "name": "python",
   "nbconvert_exporter": "python",
   "pygments_lexer": "ipython3",
   "version": "3.7.3"
  }
 },
 "nbformat": 4,
 "nbformat_minor": 2
}
