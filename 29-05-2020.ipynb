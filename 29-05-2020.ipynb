{
 "cells": [
  {
   "cell_type": "code",
   "execution_count": 1,
   "metadata": {},
   "outputs": [
    {
     "name": "stdout",
     "output_type": "stream",
     "text": [
      "1\n",
      "2\n",
      "3\n",
      "4\n"
     ]
    }
   ],
   "source": [
    "#Loop control Statements: Break,continue\n",
    "for i in range(1,11):\n",
    "    if i%5==0:\n",
    "        break\n",
    "    else:\n",
    "        print(i)"
   ]
  },
  {
   "cell_type": "code",
   "execution_count": 2,
   "metadata": {},
   "outputs": [
    {
     "name": "stdout",
     "output_type": "stream",
     "text": [
      "1\n",
      "2\n",
      "3\n",
      "4\n",
      "6\n",
      "7\n",
      "8\n",
      "9\n"
     ]
    }
   ],
   "source": [
    "for i in range(1,11):\n",
    "    if i%5==0:\n",
    "        continue\n",
    "    else:\n",
    "        print(i)"
   ]
  },
  {
   "cell_type": "markdown",
   "metadata": {},
   "source": [
    "Program to validate username and password given by user.if user gives wrong credentials it should ask for it again and again until user gives correct credentials\n",
    "\n"
   ]
  },
  {
   "cell_type": "code",
   "execution_count": 3,
   "metadata": {},
   "outputs": [
    {
     "name": "stdout",
     "output_type": "stream",
     "text": [
      "Enter username:vaishnavi\n",
      "Enter password:abvc\n",
      "Enter username:python\n",
      "Enter password:abc123\n",
      "Login Successfull!!\n"
     ]
    }
   ],
   "source": [
    "#username:python\n",
    "#password:abc123\n",
    "while True:\n",
    "    username=input(\"Enter username:\")\n",
    "    password=input(\"Enter password:\")\n",
    "    if username==\"python\" and password==\"abc123\":\n",
    "        print(\"Login Successfull!!\")\n",
    "        break\n",
    "    else:\n",
    "        continue"
   ]
  },
  {
   "cell_type": "code",
   "execution_count": 4,
   "metadata": {},
   "outputs": [],
   "source": [
    "#pass\n",
    "if 12 < 34:\n",
    "    pass\n",
    "else:\n",
    "    print(\"else\")"
   ]
  },
  {
   "cell_type": "markdown",
   "metadata": {},
   "source": [
    "Functions\n",
    "Block of statements\n",
    "1. Predefined(which are already present)\n",
    "    * len(),print(),input(),min(),max()\n",
    "2. User-defined(custom functions)\n"
   ]
  },
  {
   "cell_type": "markdown",
   "metadata": {},
   "source": [
    "```def function_name(parameter list):\n",
    "    statemets\n",
    "    return```"
   ]
  },
  {
   "cell_type": "code",
   "execution_count": 5,
   "metadata": {},
   "outputs": [
    {
     "name": "stdout",
     "output_type": "stream",
     "text": [
      "Hello Vaishnavi\n"
     ]
    }
   ],
   "source": [
    "def name(username):#function definition\n",
    "    print(\"Hello\",username)\n",
    "name(\"Vaishnavi\")#function calling"
   ]
  },
  {
   "cell_type": "code",
   "execution_count": 14,
   "metadata": {},
   "outputs": [
    {
     "name": "stdout",
     "output_type": "stream",
     "text": [
      "(30, -10, 200, 0.5)\n",
      "(300, -100, 20000, 0.5)\n",
      "(1665, -309, 669186, 0.6869300911854104)\n"
     ]
    }
   ],
   "source": [
    "def add(a,b):\n",
    "    return a+b,a-b,a*b,a/b\n",
    "print(add(10,20))\n",
    "print(add(100,200))\n",
    "print(add(678,987))"
   ]
  },
  {
   "cell_type": "code",
   "execution_count": 18,
   "metadata": {},
   "outputs": [
    {
     "name": "stdout",
     "output_type": "stream",
     "text": [
      "30\n",
      "-10\n",
      "200\n",
      "0.5\n"
     ]
    }
   ],
   "source": [
    "def add(a,b):\n",
    "    return a+b,a-b,a*b,a/b\n",
    "#unpacking\n",
    "add,sub,mul,div = add(10,20)\n",
    "print(add)\n",
    "print(sub)\n",
    "print(mul)\n",
    "print(div)"
   ]
  },
  {
   "cell_type": "markdown",
   "metadata": {},
   "source": [
    "#### Different types of arguments\n",
    "1. Required Positional Argument\n",
    "2. Default Argument\n",
    "3. Keyword Arguments\n",
    "4. Variable-Length Argument"
   ]
  },
  {
   "cell_type": "code",
   "execution_count": 21,
   "metadata": {},
   "outputs": [
    {
     "data": {
      "text/plain": [
       "30"
      ]
     },
     "execution_count": 21,
     "metadata": {},
     "output_type": "execute_result"
    }
   ],
   "source": [
    "#Required Positional Argument\n",
    "def add(a,b):\n",
    "    return a+b\n",
    "add(10,20)\n",
    "#add(10)"
   ]
  },
  {
   "cell_type": "code",
   "execution_count": 25,
   "metadata": {},
   "outputs": [
    {
     "name": "stdout",
     "output_type": "stream",
     "text": [
      "200\n",
      "400\n"
     ]
    }
   ],
   "source": [
    "#default arguments should be at the end of parameter list\n",
    "def add(a,b=100):\n",
    "    return a+b\n",
    "print(add(100))\n",
    "print(add(200,200))"
   ]
  },
  {
   "cell_type": "code",
   "execution_count": 26,
   "metadata": {},
   "outputs": [
    {
     "name": "stdout",
     "output_type": "stream",
     "text": [
      "a value: 20\n",
      "b value: 10\n"
     ]
    },
    {
     "data": {
      "text/plain": [
       "30"
      ]
     },
     "execution_count": 26,
     "metadata": {},
     "output_type": "execute_result"
    }
   ],
   "source": [
    "#keyword arguments\n",
    "def add(a,b):\n",
    "    print(\"a value:\",a)\n",
    "    print(\"b value:\",b)\n",
    "    return a+b\n",
    "add(b=10,a=20)"
   ]
  },
  {
   "cell_type": "code",
   "execution_count": 29,
   "metadata": {},
   "outputs": [
    {
     "name": "stdout",
     "output_type": "stream",
     "text": [
      "200\n",
      "28000\n",
      "40000000\n"
     ]
    }
   ],
   "source": [
    "#Variable-Length Argument-*\n",
    "def add(*a):\n",
    "    m=1\n",
    "    for i in a:\n",
    "        m=m*i\n",
    "    return m\n",
    "print(add(10,20))\n",
    "print(add(100,280))\n",
    "print(add(100,500,800))"
   ]
  },
  {
   "cell_type": "markdown",
   "metadata": {},
   "source": [
    "### Nested Functions"
   ]
  },
  {
   "cell_type": "code",
   "execution_count": 34,
   "metadata": {},
   "outputs": [
    {
     "name": "stdout",
     "output_type": "stream",
     "text": [
      "25\n",
      "64\n"
     ]
    }
   ],
   "source": [
    "def square(a):\n",
    "    return a*a\n",
    "def cube(x):\n",
    "    return square(x)*x\n",
    "print(square(5))\n",
    "print(cube(4))"
   ]
  },
  {
   "cell_type": "markdown",
   "metadata": {},
   "source": [
    "### Recursive Functions\n",
    "1. Factorial of a number\n",
    "2. Fibonaccii Series"
   ]
  },
  {
   "cell_type": "markdown",
   "metadata": {},
   "source": [
    "### Data Structures\n",
    "1. List :\n",
    "       - [] elements are separated by commas\n",
    "       - indexed\n",
    "       - ordered\n",
    "       - Duplicate values\n",
    "       - Mutable\n",
    "       - Any type of values\n",
    "    * Operators Supported:\n",
    "       - +,*,[],[:],in,not in\n",
    "    * Built-in Functions:\n",
    "       - min(),max(),len(),list()\n",
    "    * Built-in Methods:\n",
    "       \n",
    "Adding elements\n",
    "1. append() \n",
    "2. insert() \n",
    "3. extend()\n",
    "\n",
    "removing elements:\n",
    "4. pop()\n",
    "5. remove()\n",
    "6. clear()\n",
    "\n",
    "sorting and reversing\n",
    "7. sort()\n",
    "8. reverse()\n",
    "\n",
    "9. index()\n",
    "10. copy()\n",
    "11. count()\n",
    "\n",
    "\n",
    "2. Dictionary\n",
    "3. Tuple"
   ]
  },
  {
   "cell_type": "code",
   "execution_count": 44,
   "metadata": {},
   "outputs": [
    {
     "name": "stdout",
     "output_type": "stream",
     "text": [
      "<class 'list'>\n"
     ]
    },
    {
     "data": {
      "text/plain": [
       "'c'"
      ]
     },
     "execution_count": 44,
     "metadata": {},
     "output_type": "execute_result"
    }
   ],
   "source": [
    "list1 = [12,45.0,True,\"abc\",12]\n",
    "print(type(list1))\n",
    "list1[3][2]"
   ]
  },
  {
   "cell_type": "code",
   "execution_count": 49,
   "metadata": {},
   "outputs": [
    {
     "name": "stdout",
     "output_type": "stream",
     "text": [
      "[1, 2, 3, 10, 20, 30]\n",
      "[1, 2, 3, 1, 2, 3, 1, 2, 3, 1, 2, 3]\n",
      "2\n",
      "[2, 3]\n",
      "True\n",
      "False\n",
      "3\n",
      "10\n",
      "3 3\n",
      "['p', 'y', 't', 'h', 'o', 'n']\n",
      "[1, 2, 100]\n"
     ]
    }
   ],
   "source": [
    "list1 = [1,2,3]\n",
    "list2 = [10,20,30]\n",
    "s1 = \"python\"\n",
    "print(list1+list2)\n",
    "print(list1*4)\n",
    "print(list1[1])\n",
    "print(list1[1:3])\n",
    "print(20 in list2)\n",
    "print(1 not in list1)\n",
    "print(max(list1))\n",
    "print(min(list2))\n",
    "print(len(list1),len(list2))\n",
    "list2=list(s1)\n",
    "print(list2)\n",
    "list1[-1]=100\n",
    "print(list1)"
   ]
  },
  {
   "cell_type": "code",
   "execution_count": null,
   "metadata": {},
   "outputs": [],
   "source": []
  }
 ],
 "metadata": {
  "kernelspec": {
   "display_name": "Python 3",
   "language": "python",
   "name": "python3"
  },
  "language_info": {
   "codemirror_mode": {
    "name": "ipython",
    "version": 3
   },
   "file_extension": ".py",
   "mimetype": "text/x-python",
   "name": "python",
   "nbconvert_exporter": "python",
   "pygments_lexer": "ipython3",
   "version": "3.7.3"
  }
 },
 "nbformat": 4,
 "nbformat_minor": 2
}
