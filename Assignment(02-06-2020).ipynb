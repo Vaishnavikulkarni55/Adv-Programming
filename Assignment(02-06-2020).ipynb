{
 "cells": [
  {
   "cell_type": "markdown",
   "metadata": {},
   "source": [
    "## CSE-221710305024-Vaishnavi Kulkarni"
   ]
  },
  {
   "cell_type": "code",
   "execution_count": 2,
   "metadata": {},
   "outputs": [
    {
     "name": "stdout",
     "output_type": "stream",
     "text": [
      "debug shirt\n",
      "9\n",
      "❤❤❤❤❤❤❤❤❤\n",
      "Guess a letter or a wordvaish\n",
      "8\n",
      "❤❤❤❤❤❤❤❤\n",
      "Guess a letter or a wordsush\n",
      "7\n",
      "❤❤❤❤❤❤❤\n",
      "Guess a letter or a wordpranay\n",
      "6\n",
      "❤❤❤❤❤❤\n",
      "Guess a letter or a wordmango\n",
      "5\n",
      "❤❤❤❤❤\n",
      "Guess a letter or a wordpizza\n",
      "4\n",
      "❤❤❤❤\n",
      "Guess a letter or a wordteeth\n",
      "3\n",
      "❤❤❤\n",
      "Guess a letter or a wordshirt\n",
      "2\n",
      "❤❤\n",
      "Guess a letter or a wordhello\n",
      "1\n",
      "❤\n",
      "Guess a letter or a wordinput\n"
     ]
    }
   ],
   "source": [
    "import random\n",
    "lives=9\n",
    "words = ['hello','world','apple','pizza','teeth','shirt']\n",
    "secret_word=random.choice(words)\n",
    "print(\"debug\",secret_word)\n",
    "clue=list('?????')\n",
    "heart_symbol=u'\\u2764'\n",
    "guessed_word_correctly=False\n",
    "\n",
    "def update_clue(guessed_letter,secret_word,clue):\n",
    "    for index in secret_word:\n",
    "        if guessed_letter == secret_word[index]:\n",
    "            clue[index]=guessed_letter\n",
    "while lives > 0:\n",
    "    print(lives)\n",
    "    print(lives*heart_symbol)\n",
    "    guess=input(\"Guess a letter or a word\")\n",
    "    lives=lives-1"
   ]
  },
  {
   "cell_type": "code",
   "execution_count": null,
   "metadata": {},
   "outputs": [],
   "source": []
  }
 ],
 "metadata": {
  "kernelspec": {
   "display_name": "Python 3",
   "language": "python",
   "name": "python3"
  },
  "language_info": {
   "codemirror_mode": {
    "name": "ipython",
    "version": 3
   },
   "file_extension": ".py",
   "mimetype": "text/x-python",
   "name": "python",
   "nbconvert_exporter": "python",
   "pygments_lexer": "ipython3",
   "version": "3.7.3"
  }
 },
 "nbformat": 4,
 "nbformat_minor": 2
}
