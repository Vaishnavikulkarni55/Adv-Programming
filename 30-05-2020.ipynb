{
 "cells": [
  {
   "cell_type": "code",
   "execution_count": 1,
   "metadata": {},
   "outputs": [
    {
     "data": {
      "text/plain": [
       "120"
      ]
     },
     "execution_count": 1,
     "metadata": {},
     "output_type": "execute_result"
    }
   ],
   "source": [
    "#Reccursive functions:\n",
    "#1)Factorial of number\n",
    "def Factorial(n):\n",
    "    if n==0 or n==1:\n",
    "        return 1\n",
    "    else:\n",
    "        return n*Factorial(n-1)\n",
    "Factorial(5)\n"
   ]
  },
  {
   "cell_type": "code",
   "execution_count": 2,
   "metadata": {},
   "outputs": [
    {
     "name": "stdout",
     "output_type": "stream",
     "text": [
      "lb:1\n",
      "ub:10\n",
      "1 2 3 4 5 6 7 8 9 10 "
     ]
    }
   ],
   "source": [
    "#Lower and Upper bound \n",
    "def display(lb,ub):\n",
    "    if lb > ub:\n",
    "        return\n",
    "    else:\n",
    "        print(lb,end=\" \")\n",
    "        display(lb+1,ub)\n",
    "lb=int(input(\"lb:\"))\n",
    "ub=int(input(\"ub:\"))\n",
    "display (lb,ub)\n"
   ]
  },
  {
   "cell_type": "code",
   "execution_count": 3,
   "metadata": {},
   "outputs": [
    {
     "data": {
      "text/plain": [
       "3"
      ]
     },
     "execution_count": 3,
     "metadata": {},
     "output_type": "execute_result"
    }
   ],
   "source": [
    "#Fibonacii series:0,1,1,2,3,5,8,13...\n",
    "def recur_fibo(n):\n",
    "    if n==1:\n",
    "        return 0\n",
    "    elif n==2:\n",
    "        return 1\n",
    "    else:\n",
    "        return recur_fibo(n-1)+recur_fibo(n-2)\n",
    "\n",
    "recur_fibo(5)"
   ]
  },
  {
   "cell_type": "code",
   "execution_count": 4,
   "metadata": {},
   "outputs": [
    {
     "name": "stdout",
     "output_type": "stream",
     "text": [
      "4181\n",
      "0.0\n"
     ]
    }
   ],
   "source": [
    "import time\n",
    "fibs=[0,1]\n",
    "def Fibonacci(n):\n",
    "    if n<= len(fibs):\n",
    "        return fibs[n-1]\n",
    "    else:\n",
    "        fibs.append(fibs[len(fibs)-1]+fibs[len(fibs)-2])\n",
    "        return Fibonacci(n)\n",
    "prev = time.time()    \n",
    "print(Fibonacci(20))\n",
    "print(time.time()-prev)\n"
   ]
  },
  {
   "cell_type": "code",
   "execution_count": 5,
   "metadata": {},
   "outputs": [
    {
     "name": "stdout",
     "output_type": "stream",
     "text": [
      "[1, 2, 3, 4, 5, 6]\n",
      "[1, 2, 3, 4, 5, 6, 7]\n"
     ]
    }
   ],
   "source": [
    "#append()\n",
    "list1=[1,2,3,4,5]\n",
    "list1.append(6)\n",
    "print(list1)\n",
    "list1.append(7)\n",
    "print(list1)\n"
   ]
  },
  {
   "cell_type": "code",
   "execution_count": 6,
   "metadata": {},
   "outputs": [
    {
     "name": "stdout",
     "output_type": "stream",
     "text": [
      "[1, 2, 100, 3, 4, 5, 6, 7]\n"
     ]
    }
   ],
   "source": [
    "#insert() -->at a specified position\n",
    "list1.insert(2,100)\n",
    "print(list1)\n"
   ]
  },
  {
   "cell_type": "code",
   "execution_count": 7,
   "metadata": {},
   "outputs": [
    {
     "name": "stdout",
     "output_type": "stream",
     "text": [
      "[1, 2, 100, 3, 4, 5, 6, 7, 8, 9, 10]\n"
     ]
    }
   ],
   "source": [
    "#extend : inserting multiple values into the list\n",
    "list1.extend([8,9,10])\n",
    "print(list1)\n"
   ]
  },
  {
   "cell_type": "code",
   "execution_count": 8,
   "metadata": {},
   "outputs": [
    {
     "name": "stdout",
     "output_type": "stream",
     "text": [
      "[1, 2, 100, 3, 4, 5, 6, 7, 8, 9]\n",
      "[1, 2, 3, 4, 5, 6, 7, 8, 9]\n"
     ]
    }
   ],
   "source": [
    "#Removing elements\n",
    "list1.pop()\n",
    "print(list1)\n",
    "list1.pop(2)\n",
    "print(list1)\n"
   ]
  },
  {
   "cell_type": "code",
   "execution_count": 9,
   "metadata": {},
   "outputs": [
    {
     "name": "stdout",
     "output_type": "stream",
     "text": [
      "[1, 2, 3, 4, 5, 6, 8, 9]\n"
     ]
    }
   ],
   "source": [
    "list1.remove(7)#we use this when we dont know the index\n",
    "print(list1)#when element is not there in list then it throws an error\n"
   ]
  },
  {
   "cell_type": "code",
   "execution_count": 10,
   "metadata": {},
   "outputs": [
    {
     "name": "stdout",
     "output_type": "stream",
     "text": [
      "[]\n"
     ]
    }
   ],
   "source": [
    "#clear\n",
    "list1.clear()\n",
    "print(list1)\n"
   ]
  },
  {
   "cell_type": "code",
   "execution_count": 11,
   "metadata": {},
   "outputs": [
    {
     "name": "stdout",
     "output_type": "stream",
     "text": [
      "3\n",
      "1\n"
     ]
    }
   ],
   "source": [
    "list1=[23,24,25,26,88,48]\n",
    "print(list1.index(26))\n",
    "print(list1.count(48))#this returns the frequency of element in list\n"
   ]
  },
  {
   "cell_type": "code",
   "execution_count": 12,
   "metadata": {},
   "outputs": [
    {
     "name": "stdout",
     "output_type": "stream",
     "text": [
      "[23, 24, 25, 26, 48, 88]\n"
     ]
    }
   ],
   "source": [
    "list1.sort()\n",
    "print(list1)\n"
   ]
  },
  {
   "cell_type": "code",
   "execution_count": 13,
   "metadata": {},
   "outputs": [
    {
     "name": "stdout",
     "output_type": "stream",
     "text": [
      "[88, 48, 26, 25, 24, 23]\n"
     ]
    }
   ],
   "source": [
    "#reverse\n",
    "list1.reverse()\n",
    "print(list1)\n"
   ]
  },
  {
   "cell_type": "code",
   "execution_count": 14,
   "metadata": {},
   "outputs": [
    {
     "name": "stdout",
     "output_type": "stream",
     "text": [
      "[1, 2, 3, 4, 5]\n",
      "[1, 2, 3, 4, 5]\n",
      "[1, 2, 3, 4, 5, 6, 7] [1, 2, 3, 4, 5, 6, 7] [1, 2, 3, 4, 5]\n"
     ]
    }
   ],
   "source": [
    "#copy method\n",
    "list1=[1,2,3,4,5]\n",
    "list2=[]\n",
    "list3=[]\n",
    "list2=list1\n",
    "print(list2)\n",
    "list3=list1.copy()\n",
    "print(list3)\n",
    "list1.append(6)\n",
    "list1.append(7)\n",
    "print(list1,list2,list3)\n"
   ]
  },
  {
   "cell_type": "markdown",
   "metadata": {},
   "source": [
    "File Handling:\n",
    "create\n",
    "add some text\n",
    "save\n",
    "Modes:\n",
    "write(w)\n",
    "read(r)\n",
    "append(a)\n",
    "new file creation(x)\n",
    "open()\n",
    "close()\n"
   ]
  },
  {
   "cell_type": "code",
   "execution_count": 15,
   "metadata": {},
   "outputs": [],
   "source": [
    "f = open(\"sample.txt\",\"w\")\n",
    "f.write(\"Hello Everyone!!!\")\n",
    "f.close()\n"
   ]
  },
  {
   "cell_type": "code",
   "execution_count": 16,
   "metadata": {},
   "outputs": [
    {
     "name": "stdout",
     "output_type": "stream",
     "text": [
      "Hello Everyone!!!\n"
     ]
    }
   ],
   "source": [
    "f=open(\"sample.txt\",\"r\")\n",
    "data=f.read()\n",
    "print(data)\n",
    "f.close()\n"
   ]
  },
  {
   "cell_type": "code",
   "execution_count": 17,
   "metadata": {},
   "outputs": [],
   "source": [
    "#appending\n",
    "f=open(\"sample.txt\",\"a\")\n",
    "s='''How are you guys doing!!\n",
    "stay home!'''\n",
    "\n",
    "f.write(s)\n",
    "f.close()"
   ]
  },
  {
   "cell_type": "code",
   "execution_count": 18,
   "metadata": {},
   "outputs": [
    {
     "name": "stdout",
     "output_type": "stream",
     "text": [
      "Hello Everyone!!!How are you guys doing!!\n",
      "stay home!\n"
     ]
    }
   ],
   "source": [
    "f=open(\"sample.txt\",\"r\")\n",
    "data=f.read()\n",
    "print(data)\n",
    "f.close()\n"
   ]
  },
  {
   "cell_type": "code",
   "execution_count": null,
   "metadata": {},
   "outputs": [],
   "source": []
  }
 ],
 "metadata": {
  "kernelspec": {
   "display_name": "Python 3",
   "language": "python",
   "name": "python3"
  },
  "language_info": {
   "codemirror_mode": {
    "name": "ipython",
    "version": 3
   },
   "file_extension": ".py",
   "mimetype": "text/x-python",
   "name": "python",
   "nbconvert_exporter": "python",
   "pygments_lexer": "ipython3",
   "version": "3.7.3"
  }
 },
 "nbformat": 4,
 "nbformat_minor": 2
}
